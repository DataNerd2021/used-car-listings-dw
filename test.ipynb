{
 "cells": [
  {
   "cell_type": "code",
   "execution_count": 47,
   "metadata": {},
   "outputs": [
    {
     "name": "stdout",
     "output_type": "stream",
     "text": [
      "Map saved to zip_codes_map.html\n"
     ]
    }
   ],
   "source": [
    "import geopandas as gpd\n",
    "import pandas as pd\n",
    "import folium\n",
    "\n",
    "# Load CSV\n",
    "df = pd.read_csv('zip_codes.csv')\n",
    "df['zip'] = df['zip'].astype(str).str.zfill(5)  # ensure 5-digit format\n",
    "\n",
    "# Load ZCTA shapefile\n",
    "zcta = gpd.read_file(\"cb_2018_us_zcta510_500k.shp\")\n",
    "\n",
    "# Merge dataset with ZCTA polygons\n",
    "merged = zcta.merge(df, left_on='ZCTA5CE10', right_on='zip')\n",
    "\n",
    "# Convert CRS to WGS84 (required for Folium)\n",
    "merged = merged.to_crs(epsg=4326)\n",
    "\n",
    "# Create a folium map centered on the U.S.\n",
    "m = folium.Map(location=[37.8, -96], zoom_start=4, tiles='cartodbpositron')\n",
    "\n",
    "# Add ZIP polygons to the map\n",
    "folium.GeoJson(\n",
    "    merged,\n",
    "    name=\"ZIP Areas\",\n",
    "    style_function=lambda feature: {\n",
    "        'fillColor': '#ff4d4d',\n",
    "        'color': 'black',\n",
    "        'weight': 0.5,\n",
    "        'fillOpacity': 0.6,\n",
    "    },\n",
    "    tooltip=folium.GeoJsonTooltip(fields=[\"ZCTA5CE10\"], aliases=[\"ZIP Code:\"])\n",
    ").add_to(m)\n",
    "\n",
    "# Add layer control\n",
    "folium.LayerControl().add_to(m)\n",
    "\n",
    "# Save to HTML\n",
    "m.save(\"zip_codes_map.html\")\n",
    "print(\"Map saved to zip_codes_map.html\")\n"
   ]
  }
 ],
 "metadata": {
  "kernelspec": {
   "display_name": "Python 3",
   "language": "python",
   "name": "python3"
  },
  "language_info": {
   "codemirror_mode": {
    "name": "ipython",
    "version": 3
   },
   "file_extension": ".py",
   "mimetype": "text/x-python",
   "name": "python",
   "nbconvert_exporter": "python",
   "pygments_lexer": "ipython3",
   "version": "3.10.11"
  }
 },
 "nbformat": 4,
 "nbformat_minor": 2
}
